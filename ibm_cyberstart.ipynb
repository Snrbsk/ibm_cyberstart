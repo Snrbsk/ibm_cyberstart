{
  "nbformat": 4,
  "nbformat_minor": 0,
  "metadata": {
    "colab": {
      "provenance": [],
      "authorship_tag": "ABX9TyPx5MlA7oBqrOkDhZWvzBjQ",
      "include_colab_link": true
    },
    "kernelspec": {
      "name": "python3",
      "display_name": "Python 3"
    },
    "language_info": {
      "name": "python"
    }
  },
  "cells": [
    {
      "cell_type": "markdown",
      "metadata": {
        "id": "view-in-github",
        "colab_type": "text"
      },
      "source": [
        "<a href=\"https://colab.research.google.com/github/Snrbsk/ibm_cyberstart/blob/main/ibm_cyberstart.ipynb\" target=\"_parent\"><img src=\"https://colab.research.google.com/assets/colab-badge.svg\" alt=\"Open In Colab\"/></a>"
      ]
    },
    {
      "cell_type": "code",
      "execution_count": null,
      "metadata": {
        "colab": {
          "base_uri": "https://localhost:8080/"
        },
        "id": "bVs4CA0t_Ud1",
        "outputId": "beb09e67-844b-4fc8-c055-89b052e9a968"
      },
      "outputs": [
        {
          "output_type": "stream",
          "name": "stdout",
          "text": [
            "5.0\n"
          ]
        }
      ],
      "source": [
        "def calculate_disctance(x1,x2,y1,y2):\n",
        "  first_point = ( x1, y1)\n",
        "  second_point = ( x2, y2)\n",
        "\n",
        "  oklid = ((x2 - x1)**2 + (y2 - y1)**2)**0.5\n",
        "\n",
        "  print(oklid)\n",
        "\n",
        "calculate_disctance(0,3,0,4)"
      ]
    }
  ]
}